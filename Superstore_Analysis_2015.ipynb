{
 "cells": [
  {
   "cell_type": "markdown",
   "id": "7ffde14b",
   "metadata": {},
   "source": [
    "\n",
    "# Superstore Sales & Profit Analysis (2015)\n",
    "\n",
    "**Author:** _Neelam Kanwar_  \n",
    "**Goal:** Analyze sales and profitability patterns for a retail superstore to uncover business insights and recommendations.\n",
    "\n",
    "**Dataset:** `SuperStoreUS-2015.xlsx` (1,952 rows, 25 columns)\n"
   ]
  },
  {
   "cell_type": "markdown",
   "id": "3857ea04",
   "metadata": {},
   "source": [
    "\n",
    "## 1) Setup & Data Loading\n",
    "This section imports libraries and loads the dataset. If you're running this outside of this workspace, update `file_path` to your local path.\n"
   ]
  },
  {
   "cell_type": "code",
   "execution_count": null,
   "id": "76613dc5",
   "metadata": {},
   "outputs": [],
   "source": [
    "\n",
    "import pandas as pd\n",
    "import numpy as np\n",
    "import matplotlib.pyplot as plt\n",
    "\n",
    "# Display options\n",
    "pd.set_option('display.max_columns', None)\n",
    "\n",
    "# Load data\n",
    "file_path = \"SuperStoreUS-2015.xlsx\"  # Update path as needed\n",
    "df = pd.read_excel(file_path, engine=\"openpyxl\")\n",
    "\n",
    "# Quick peek\n",
    "print(df.shape)\n",
    "df.head()\n"
   ]
  },
  {
   "cell_type": "code",
   "execution_count": null,
   "id": "bdcb7189",
   "metadata": {},
   "outputs": [],
   "source": [
    "\n",
    "# Basic dtype inspection\n",
    "df.dtypes\n"
   ]
  },
  {
   "cell_type": "markdown",
   "id": "db582975",
   "metadata": {},
   "source": [
    "\n",
    "## 2) Cleaning\n",
    "- Drop duplicates  \n",
    "- Parse dates  \n",
    "- Inspect missing values\n"
   ]
  },
  {
   "cell_type": "code",
   "execution_count": null,
   "id": "cc380cc7",
   "metadata": {},
   "outputs": [],
   "source": [
    "\n",
    "# Drop duplicates\n",
    "df = df.drop_duplicates()\n",
    "\n",
    "# Ensure dates\n",
    "for col in [\"Order Date\", \"Ship Date\"]:\n",
    "    if not np.issubdtype(df[col].dtype, np.datetime64):\n",
    "        df[col] = pd.to_datetime(df[col], errors='coerce')\n",
    "\n",
    "# Missing values summary\n",
    "missing_summary = df.isnull().sum().sort_values(ascending=False)\n",
    "missing_summary[missing_summary > 0]\n"
   ]
  },
  {
   "cell_type": "markdown",
   "id": "f8365182",
   "metadata": {},
   "source": [
    "\n",
    "> Note: `Product Base Margin` has some missing values. For analysis below, we will leave them as-is (they are not required for our KPIs).\n"
   ]
  },
  {
   "cell_type": "markdown",
   "id": "157f586c",
   "metadata": {},
   "source": [
    "\n",
    "## 3) Core KPIs\n",
    "Total Sales, Total Profit, Unique Customers, and Orders.\n"
   ]
  },
  {
   "cell_type": "code",
   "execution_count": null,
   "id": "94d76499",
   "metadata": {},
   "outputs": [],
   "source": [
    "\n",
    "kpis = {\n",
    "    \"Total Sales\": df['Sales'].sum(),\n",
    "    \"Total Profit\": df['Profit'].sum(),\n",
    "    \"Unique Customers\": df['Customer ID'].nunique(),\n",
    "    \"Total Orders\": df['Order ID'].nunique()\n",
    "}\n",
    "pd.DataFrame.from_dict(kpis, orient='index', columns=['Value'])\n"
   ]
  },
  {
   "cell_type": "markdown",
   "id": "bda42d0d",
   "metadata": {},
   "source": [
    "\n",
    "## 4) Exploratory Data Analysis (EDA)\n",
    "This section explores sales and profit by category, region, time, products, and segments.\n"
   ]
  },
  {
   "cell_type": "markdown",
   "id": "5d2351be",
   "metadata": {},
   "source": [
    "### 4.1 Sales by Category"
   ]
  },
  {
   "cell_type": "code",
   "execution_count": null,
   "id": "5ce75890",
   "metadata": {},
   "outputs": [],
   "source": [
    "\n",
    "category_sales = (\n",
    "    df.groupby('Product Category')['Sales']\n",
    "    .sum()\n",
    "    .sort_values(ascending=False)\n",
    ")\n",
    "\n",
    "plt.figure(figsize=(7,4))\n",
    "plt.bar(category_sales.index, category_sales.values)\n",
    "plt.title(\"Total Sales by Category\")\n",
    "plt.xlabel(\"Product Category\")\n",
    "plt.ylabel(\"Sales\")\n",
    "plt.tight_layout()\n",
    "plt.show()\n",
    "\n",
    "category_sales\n"
   ]
  },
  {
   "cell_type": "markdown",
   "id": "44883d3c",
   "metadata": {},
   "source": [
    "### 4.2 Profit by Region"
   ]
  },
  {
   "cell_type": "code",
   "execution_count": null,
   "id": "4159e12f",
   "metadata": {},
   "outputs": [],
   "source": [
    "\n",
    "region_profit = (\n",
    "    df.groupby('Region')['Profit']\n",
    "    .sum()\n",
    "    .sort_values(ascending=False)\n",
    ")\n",
    "\n",
    "plt.figure(figsize=(7,4))\n",
    "plt.bar(region_profit.index, region_profit.values)\n",
    "plt.title(\"Total Profit by Region\")\n",
    "plt.xlabel(\"Region\")\n",
    "plt.ylabel(\"Profit\")\n",
    "plt.tight_layout()\n",
    "plt.show()\n",
    "\n",
    "region_profit\n"
   ]
  },
  {
   "cell_type": "markdown",
   "id": "aeea416d",
   "metadata": {},
   "source": [
    "### 4.3 Monthly Sales Trend (2015)"
   ]
  },
  {
   "cell_type": "code",
   "execution_count": null,
   "id": "83b2ee66",
   "metadata": {},
   "outputs": [],
   "source": [
    "\n",
    "# Aggregate by month\n",
    "df['Month'] = df['Order Date'].dt.to_period('M')\n",
    "monthly_sales = df.groupby('Month')['Sales'].sum()\n",
    "\n",
    "# Convert PeriodIndex to timestamp for plotting\n",
    "x = monthly_sales.index.to_timestamp()\n",
    "y = monthly_sales.values\n",
    "\n",
    "plt.figure(figsize=(10,5))\n",
    "plt.plot(x, y, marker='o')\n",
    "plt.title(\"Monthly Sales Trend (2015)\")\n",
    "plt.xlabel(\"Month\")\n",
    "plt.ylabel(\"Sales\")\n",
    "plt.grid(True, linestyle='--', linewidth=0.5)\n",
    "plt.tight_layout()\n",
    "plt.show()\n",
    "\n",
    "monthly_sales\n"
   ]
  },
  {
   "cell_type": "markdown",
   "id": "8cfd955a",
   "metadata": {},
   "source": [
    "### 4.4 Top 10 Products by Sales"
   ]
  },
  {
   "cell_type": "code",
   "execution_count": null,
   "id": "3594023c",
   "metadata": {},
   "outputs": [],
   "source": [
    "\n",
    "top_products_sales = (\n",
    "    df.groupby('Product Name')['Sales']\n",
    "    .sum()\n",
    "    .sort_values(ascending=False)\n",
    "    .head(10)\n",
    ")\n",
    "\n",
    "plt.figure(figsize=(9,6))\n",
    "plt.barh(top_products_sales.index[::-1], top_products_sales.values[::-1])\n",
    "plt.title(\"Top 10 Products by Sales\")\n",
    "plt.xlabel(\"Sales\")\n",
    "plt.ylabel(\"Product Name\")\n",
    "plt.tight_layout()\n",
    "plt.show()\n",
    "\n",
    "top_products_sales\n"
   ]
  },
  {
   "cell_type": "markdown",
   "id": "d019e34c",
   "metadata": {},
   "source": [
    "### 4.5 Top 10 Products by Profit"
   ]
  },
  {
   "cell_type": "code",
   "execution_count": null,
   "id": "cd47cbc7",
   "metadata": {},
   "outputs": [],
   "source": [
    "\n",
    "top_products_profit = (\n",
    "    df.groupby('Product Name')['Profit']\n",
    "    .sum()\n",
    "    .sort_values(ascending=False)\n",
    "    .head(10)\n",
    ")\n",
    "\n",
    "plt.figure(figsize=(9,6))\n",
    "plt.barh(top_products_profit.index[::-1], top_products_profit.values[::-1])\n",
    "plt.title(\"Top 10 Products by Profit\")\n",
    "plt.xlabel(\"Profit\")\n",
    "plt.ylabel(\"Product Name\")\n",
    "plt.tight_layout()\n",
    "plt.show()\n",
    "\n",
    "top_products_profit\n"
   ]
  },
  {
   "cell_type": "markdown",
   "id": "3779f979",
   "metadata": {},
   "source": [
    "### 4.6 Sales by Customer Segment"
   ]
  },
  {
   "cell_type": "code",
   "execution_count": null,
   "id": "05eb1c94",
   "metadata": {},
   "outputs": [],
   "source": [
    "\n",
    "segment_sales = (\n",
    "    df.groupby('Customer Segment')['Sales']\n",
    "    .sum()\n",
    "    .sort_values(ascending=False)\n",
    ")\n",
    "\n",
    "plt.figure(figsize=(7,4))\n",
    "plt.bar(segment_sales.index, segment_sales.values)\n",
    "plt.title(\"Total Sales by Customer Segment\")\n",
    "plt.xlabel(\"Customer Segment\")\n",
    "plt.ylabel(\"Sales\")\n",
    "plt.tight_layout()\n",
    "plt.show()\n",
    "\n",
    "segment_sales\n"
   ]
  },
  {
   "cell_type": "markdown",
   "id": "10842e04",
   "metadata": {},
   "source": [
    "### 4.7 Discount vs Profit"
   ]
  },
  {
   "cell_type": "code",
   "execution_count": null,
   "id": "9ff8dc9e",
   "metadata": {},
   "outputs": [],
   "source": [
    "\n",
    "plt.figure(figsize=(7,4))\n",
    "plt.scatter(df['Discount'], df['Profit'], alpha=0.6)\n",
    "plt.title(\"Discount vs Profit\")\n",
    "plt.xlabel(\"Discount\")\n",
    "plt.ylabel(\"Profit\")\n",
    "plt.tight_layout()\n",
    "plt.show()\n"
   ]
  },
  {
   "cell_type": "markdown",
   "id": "e3b51656",
   "metadata": {},
   "source": [
    "\n",
    "## 5) Key Insights\n",
    "- **Category Performance:** Technology and Furniture lead sales; cross-check their profit contribution above.\n",
    "- **Regional Profitability:** Identify regions with negative or weak profit; investigate discounting and shipping costs.\n",
    "- **Seasonality:** Spot months with spikes/dips; consider promotions or stock planning.\n",
    "- **Product Mix:** Top products by sales are not always top by profit—optimize assortment and pricing.\n",
    "- **Discount Impact:** Higher discounts tend to reduce profit; set guardrails.\n"
   ]
  },
  {
   "cell_type": "code",
   "execution_count": null,
   "id": "9c525ec5",
   "metadata": {},
   "outputs": [],
   "source": [
    "\n",
    "# Helpful one-liners to surface highlights programmatically\n",
    "print(\"Top Category by Sales:\", category_sales.index[0], f\"(${category_sales.iloc[0]:,.2f})\")\n",
    "print(\"Top Region by Profit:\", region_profit.index[0], f\"(${region_profit.iloc[0]:,.2f})\")\n",
    "print(\"Best Month by Sales:\", monthly_sales.idxmax().strftime('%b %Y'), f\"(${monthly_sales.max():,.2f})\")\n",
    "print(\"Worst Month by Sales:\", monthly_sales.idxmin().strftime('%b %Y'), f\"(${monthly_sales.min():,.2f})\")\n",
    "print(\"\\nMost Profitable Product:\")\n",
    "print(top_products_profit.head(1))\n",
    "print(\"\\nHighest Revenue Product:\")\n",
    "print(top_products_sales.head(1))\n"
   ]
  },
  {
   "cell_type": "markdown",
   "id": "469b004b",
   "metadata": {},
   "source": [
    "\n",
    "## 6) Recommendations\n",
    "- **Tighten Discounting** in low-margin categories/regions.\n",
    "- **Focus Marketing** on high-profit products and top-performing segments.\n",
    "- **Investigate Loss-Making Regions** (e.g., high shipping cost, heavy discounting).\n",
    "- **Inventory Planning** for peak months; pre-position stock to reduce shipping costs.\n",
    "- **Customer Strategy:** nurture high-value customers with targeted offers that protect margin.\n"
   ]
  }
 ],
 "metadata": {},
 "nbformat": 4,
 "nbformat_minor": 5
}
